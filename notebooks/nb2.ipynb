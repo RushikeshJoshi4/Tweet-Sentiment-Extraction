{
 "cells": [
  {
   "cell_type": "code",
   "execution_count": 3,
   "metadata": {},
   "outputs": [],
   "source": [
    "import pandas as pd\n",
    "import numpy as np\n",
    "from tqdm import tqdm\n"
   ]
  },
  {
   "cell_type": "code",
   "execution_count": 9,
   "metadata": {},
   "outputs": [
    {
     "name": "stdout",
     "output_type": "stream",
     "text": [
      "Index(['textID', 'text', 'selected_text', 'sentiment'], dtype='object')\n",
      "Index(['textID', 'text', 'sentiment'], dtype='object')\n",
      "Index(['textID', 'selected_text'], dtype='object')\n"
     ]
    }
   ],
   "source": [
    "df = pd.read_csv('../tweet-sentiment-extraction/train.csv')\n",
    "print(df.columns)\n",
    "df = pd.read_csv('../tweet-sentiment-extraction/test.csv')\n",
    "print(df.columns)\n",
    "df = pd.read_csv('../tweet-sentiment-extraction/sample_submission.csv')\n",
    "print(df.columns)"
   ]
  },
  {
   "cell_type": "code",
   "execution_count": 2,
   "metadata": {},
   "outputs": [],
   "source": [
    "def foo(row):\n",
    "    # print('row:')\n",
    "    # print(row)\n",
    "    z = ['none', 'start']\n",
    "    \n",
    "    temp = row['start_idx']\n",
    "    ans = np.zeros(len(row['text'].split()))\n",
    "    ans[temp] = 1\n",
    "    ans = np.array(ans, dtype=np.int32)\n",
    "    ans = ' '.join([str(z[ans_]) for ans_ in ans])\n",
    "    return ans"
   ]
  },
  {
   "cell_type": "code",
   "execution_count": 3,
   "metadata": {},
   "outputs": [],
   "source": [
    "def foo2(row):\n",
    "    try:\n",
    "        temp = row['start_idx']\n",
    "        temp += len(row['selected_text'].split())\n",
    "        temp -= 1\n",
    "        end_idx = temp\n",
    "        ans = np.zeros(len(row['text'].split()))\n",
    "        ans[temp] = 1\n",
    "    except:\n",
    "        print(row)\n",
    "        import sys; sys.exit(0)\n",
    "    ans = np.array(ans, dtype=np.int32)\n",
    "    z = ['none', 'end']\n",
    "    ans = ' '.join([str(z[ans_]) for ans_ in ans])\n",
    "    return ans"
   ]
  },
  {
   "cell_type": "code",
   "execution_count": 4,
   "metadata": {},
   "outputs": [],
   "source": [
    "def foo3(row):\n",
    "    temp = row['text'].find(row['selected_text'])\n",
    "    if temp>0: \n",
    "        if row['text'][temp-1]!=' ': \n",
    "            temp = row['text'].rfind(' ',0,temp)\n",
    "            if temp==-1: \n",
    "                temp=0\n",
    "    temp = len(row['text'][:temp].split())\n",
    "    return temp"
   ]
  },
  {
   "cell_type": "code",
   "execution_count": 5,
   "metadata": {},
   "outputs": [
    {
     "name": "stderr",
     "output_type": "stream",
     "text": [
      "/home/rushikej/miniconda3/envs/tf_3/lib/python3.7/site-packages/tqdm/std.py:666: FutureWarning: The Panel class is removed from pandas. Accessing it from the top-level namespace will also be removed in the next version\n",
      "  from pandas import Panel\n"
     ]
    }
   ],
   "source": [
    "tqdm.pandas()"
   ]
  },
  {
   "cell_type": "code",
   "execution_count": 6,
   "metadata": {},
   "outputs": [
    {
     "name": "stderr",
     "output_type": "stream",
     "text": [
      "100%|██████████| 27480/27480 [00:01<00:00, 21246.47it/s]\n",
      "100%|██████████| 27480/27480 [00:01<00:00, 24265.36it/s]\n",
      "100%|██████████| 27480/27480 [00:01<00:00, 19135.27it/s]\n"
     ]
    },
    {
     "data": {
      "text/html": [
       "<div>\n",
       "<style scoped>\n",
       "    .dataframe tbody tr th:only-of-type {\n",
       "        vertical-align: middle;\n",
       "    }\n",
       "\n",
       "    .dataframe tbody tr th {\n",
       "        vertical-align: top;\n",
       "    }\n",
       "\n",
       "    .dataframe thead th {\n",
       "        text-align: right;\n",
       "    }\n",
       "</style>\n",
       "<table border=\"1\" class=\"dataframe\">\n",
       "  <thead>\n",
       "    <tr style=\"text-align: right;\">\n",
       "      <th></th>\n",
       "      <th>textID</th>\n",
       "      <th>text</th>\n",
       "      <th>selected_text</th>\n",
       "      <th>sentiment</th>\n",
       "      <th>start_idx</th>\n",
       "      <th>start</th>\n",
       "      <th>end</th>\n",
       "    </tr>\n",
       "  </thead>\n",
       "  <tbody>\n",
       "    <tr>\n",
       "      <th>0</th>\n",
       "      <td>cb774db0d1</td>\n",
       "      <td>I`d have responded, if I were going</td>\n",
       "      <td>I`d have responded, if I were going</td>\n",
       "      <td>neutral</td>\n",
       "      <td>0</td>\n",
       "      <td>start none none none none none none</td>\n",
       "      <td>none none none none none none end</td>\n",
       "    </tr>\n",
       "    <tr>\n",
       "      <th>1</th>\n",
       "      <td>549e992a42</td>\n",
       "      <td>Sooo SAD I will miss you here in San Diego!!!</td>\n",
       "      <td>Sooo SAD</td>\n",
       "      <td>negative</td>\n",
       "      <td>0</td>\n",
       "      <td>start none none none none none none none none ...</td>\n",
       "      <td>none end none none none none none none none none</td>\n",
       "    </tr>\n",
       "    <tr>\n",
       "      <th>2</th>\n",
       "      <td>088c60f138</td>\n",
       "      <td>my boss is bullying me...</td>\n",
       "      <td>bullying me</td>\n",
       "      <td>negative</td>\n",
       "      <td>3</td>\n",
       "      <td>none none none start none</td>\n",
       "      <td>none none none none end</td>\n",
       "    </tr>\n",
       "    <tr>\n",
       "      <th>3</th>\n",
       "      <td>9642c003ef</td>\n",
       "      <td>what interview! leave me alone</td>\n",
       "      <td>leave me alone</td>\n",
       "      <td>negative</td>\n",
       "      <td>2</td>\n",
       "      <td>none none start none none</td>\n",
       "      <td>none none none none end</td>\n",
       "    </tr>\n",
       "    <tr>\n",
       "      <th>4</th>\n",
       "      <td>358bd9e861</td>\n",
       "      <td>Sons of ****, why couldn`t they put them on t...</td>\n",
       "      <td>Sons of ****,</td>\n",
       "      <td>negative</td>\n",
       "      <td>0</td>\n",
       "      <td>start none none none none none none none none ...</td>\n",
       "      <td>none none end none none none none none none no...</td>\n",
       "    </tr>\n",
       "  </tbody>\n",
       "</table>\n",
       "</div>"
      ],
      "text/plain": [
       "       textID                                               text  \\\n",
       "0  cb774db0d1                I`d have responded, if I were going   \n",
       "1  549e992a42      Sooo SAD I will miss you here in San Diego!!!   \n",
       "2  088c60f138                          my boss is bullying me...   \n",
       "3  9642c003ef                     what interview! leave me alone   \n",
       "4  358bd9e861   Sons of ****, why couldn`t they put them on t...   \n",
       "\n",
       "                         selected_text sentiment  start_idx  \\\n",
       "0  I`d have responded, if I were going   neutral          0   \n",
       "1                             Sooo SAD  negative          0   \n",
       "2                          bullying me  negative          3   \n",
       "3                       leave me alone  negative          2   \n",
       "4                        Sons of ****,  negative          0   \n",
       "\n",
       "                                               start  \\\n",
       "0                start none none none none none none   \n",
       "1  start none none none none none none none none ...   \n",
       "2                          none none none start none   \n",
       "3                          none none start none none   \n",
       "4  start none none none none none none none none ...   \n",
       "\n",
       "                                                 end  \n",
       "0                  none none none none none none end  \n",
       "1   none end none none none none none none none none  \n",
       "2                            none none none none end  \n",
       "3                            none none none none end  \n",
       "4  none none end none none none none none none no...  "
      ]
     },
     "execution_count": 6,
     "metadata": {},
     "output_type": "execute_result"
    }
   ],
   "source": [
    "df = pd.read_csv('../tweet-sentiment-extraction/train.csv')\n",
    "# print(df.head())\n",
    "# df = df.head(50)\n",
    "if len(df[df['textID']=='fdb77c3752'])!=0:\n",
    "    df = df.drop([314])\n",
    "\n",
    "df['start_idx'] = df.progress_apply(foo3, axis=1)\n",
    "df['start'] = df.progress_apply(foo, axis=1)\n",
    "df['end'] = df.progress_apply(foo2, axis=1)\n",
    "df.head()"
   ]
  },
  {
   "cell_type": "code",
   "execution_count": 7,
   "metadata": {},
   "outputs": [],
   "source": [
    "# def foo4(df):\n",
    "#     df['t_text'] = df['text'].apply(lambda x: tokenizer.tokenize(str(x)))\n",
    "#     df['t_selected_text'] = df['selected_text'].apply(lambda x: tokenizer.tokenize(str(x)))\n",
    "#     def func(row):\n",
    "#         x,y = row['t_text'],row['t_selected_text'][:]\n",
    "#         for offset in range(len(x)):\n",
    "#             d = dict(zip(x[offset:],y))\n",
    "#             #when k = v that means we found the offset\n",
    "#             check = [k==v for k,v in d.items()]\n",
    "#             if all(check)== True:\n",
    "#                 break \n",
    "#         return [0]*offset + [1]*len(y) + [0]* (len(x)-offset-len(y))\n",
    "#     df['targets'] = df.apply(func,axis=1)\n",
    "#     return df"
   ]
  },
  {
   "cell_type": "code",
   "execution_count": 8,
   "metadata": {},
   "outputs": [],
   "source": [
    "# df_ = foo4(df)"
   ]
  },
  {
   "cell_type": "code",
   "execution_count": 9,
   "metadata": {},
   "outputs": [],
   "source": [
    "# def foo4(row):\n",
    "#     x,y = row['t_text'],row['t_selected_text'][:]\n",
    "#     for offset in range(len(x)):\n",
    "#         d = dict(zip(x[offset:],y))\n",
    "#         #when k = v that means we found the offset\n",
    "#         check = [k==v for k,v in d.items()]\n",
    "#         if all(check)== True:\n",
    "#             break \n",
    "#     return [0]*offset + [1]*len(y) + [0]* (len(x)-offset-len(y))"
   ]
  },
  {
   "cell_type": "code",
   "execution_count": 10,
   "metadata": {},
   "outputs": [],
   "source": [
    "# df.iloc[0]"
   ]
  },
  {
   "cell_type": "code",
   "execution_count": 11,
   "metadata": {},
   "outputs": [],
   "source": [
    "# foo4(df.iloc[0])"
   ]
  },
  {
   "cell_type": "code",
   "execution_count": 12,
   "metadata": {},
   "outputs": [],
   "source": [
    "# df.isna"
   ]
  },
  {
   "cell_type": "code",
   "execution_count": 13,
   "metadata": {},
   "outputs": [],
   "source": [
    "# df['end'].isnull().all()==False"
   ]
  },
  {
   "cell_type": "code",
   "execution_count": 14,
   "metadata": {},
   "outputs": [],
   "source": [
    "import torch\n",
    "import torch.nn as nn\n",
    "import torch.optim as optim\n",
    "\n",
    "from torchtext import data\n",
    "from torchtext import datasets\n",
    "\n",
    "import spacy\n",
    "import numpy as np\n",
    "\n",
    "import time\n",
    "import random"
   ]
  },
  {
   "cell_type": "code",
   "execution_count": null,
   "metadata": {},
   "outputs": [],
   "source": []
  },
  {
   "cell_type": "code",
   "execution_count": 18,
   "metadata": {},
   "outputs": [],
   "source": [
    "# train_df.iloc[4]['start']"
   ]
  },
  {
   "cell_type": "code",
   "execution_count": null,
   "metadata": {},
   "outputs": [],
   "source": []
  },
  {
   "cell_type": "code",
   "execution_count": null,
   "metadata": {},
   "outputs": [],
   "source": []
  },
  {
   "cell_type": "code",
   "execution_count": 19,
   "metadata": {},
   "outputs": [],
   "source": [
    "from sklearn.model_selection import train_test_split\n",
    "\n",
    "train_df, test_df = train_test_split(df, test_size=0.1)"
   ]
  },
  {
   "cell_type": "code",
   "execution_count": 20,
   "metadata": {},
   "outputs": [],
   "source": [
    "train_df, val_df = train_test_split(train_df, test_size=0.1)"
   ]
  },
  {
   "cell_type": "code",
   "execution_count": 21,
   "metadata": {},
   "outputs": [],
   "source": [
    "train_df.to_csv('df_changed_train.csv')\n",
    "val_df.to_csv('df_changed_val.csv')\n",
    "test_df.to_csv('df_changed_test.csv')"
   ]
  },
  {
   "cell_type": "code",
   "execution_count": 22,
   "metadata": {},
   "outputs": [],
   "source": [
    "train_path = 'df_changed_train.csv'\n",
    "test_path = 'df_changed_test.csv'\n",
    "val_path = 'df_changed_val.csv'"
   ]
  },
  {
   "cell_type": "code",
   "execution_count": 23,
   "metadata": {},
   "outputs": [],
   "source": [
    "# data.Field?"
   ]
  },
  {
   "cell_type": "code",
   "execution_count": null,
   "metadata": {},
   "outputs": [],
   "source": []
  },
  {
   "cell_type": "code",
   "execution_count": 24,
   "metadata": {},
   "outputs": [],
   "source": [
    "# import spacy\n",
    "# spacy_en = spacy.load('en')\n",
    "\n",
    "# def tokenizer(text): # create a tokenizer function\n",
    "#     return [tok.text for tok in spacy_en.tokenizer(text)]"
   ]
  },
  {
   "cell_type": "code",
   "execution_count": 25,
   "metadata": {},
   "outputs": [],
   "source": [
    "# data.Field?"
   ]
  },
  {
   "cell_type": "code",
   "execution_count": 26,
   "metadata": {},
   "outputs": [],
   "source": [
    "text_field = data.Field(sequential=True)\n",
    "# text_id_field = data.Field(sequential=False)\n",
    "# selected_text_field = data.Field(sequential=True)\n",
    "labels_field = data.Field(sequential=False)\n",
    "start_field = data.Field(unk_token=None, pad_token='none')\n",
    "end_field = data.Field(unk_token=None, pad_token='none')"
   ]
  },
  {
   "cell_type": "code",
   "execution_count": 27,
   "metadata": {},
   "outputs": [],
   "source": [
    "# start_field.vocab.freqs"
   ]
  },
  {
   "cell_type": "code",
   "execution_count": 28,
   "metadata": {},
   "outputs": [],
   "source": [
    "# data.Field?"
   ]
  },
  {
   "cell_type": "code",
   "execution_count": 29,
   "metadata": {},
   "outputs": [],
   "source": [
    "fields={    # 'textID': ('textID', text_id_field),\n",
    "            'text': ('text', text_field),\n",
    "            # 'selected_text': ('selected_text', selected_text_field),\n",
    "            'sentiment': ('labels', labels_field), \n",
    "            'start': ('start', start_field), \n",
    "            'end': ('end', end_field)\n",
    "        }"
   ]
  },
  {
   "cell_type": "code",
   "execution_count": 30,
   "metadata": {},
   "outputs": [],
   "source": [
    "# data.Field?"
   ]
  },
  {
   "cell_type": "code",
   "execution_count": null,
   "metadata": {},
   "outputs": [],
   "source": []
  },
  {
   "cell_type": "code",
   "execution_count": 31,
   "metadata": {},
   "outputs": [],
   "source": [
    "train_data, val_data, test_data = data.TabularDataset.splits(\n",
    "    path='', \n",
    "    train=train_path,\n",
    "    validation=val_path, \n",
    "    test=test_path, \n",
    "    format='csv',\n",
    "    fields=fields)"
   ]
  },
  {
   "cell_type": "code",
   "execution_count": null,
   "metadata": {},
   "outputs": [],
   "source": []
  },
  {
   "cell_type": "code",
   "execution_count": 32,
   "metadata": {},
   "outputs": [
    {
     "name": "stdout",
     "output_type": "stream",
     "text": [
      "Number of training examples: 22258\n",
      "Number of validation examples: 2474\n",
      "Number of testing examples: 2748\n"
     ]
    }
   ],
   "source": [
    "print(f\"Number of training examples: {len(train_data)}\")\n",
    "print(f\"Number of validation examples: {len(val_data)}\")\n",
    "print(f\"Number of testing examples: {len(test_data)}\")"
   ]
  },
  {
   "cell_type": "code",
   "execution_count": null,
   "metadata": {},
   "outputs": [],
   "source": []
  },
  {
   "cell_type": "code",
   "execution_count": 33,
   "metadata": {},
   "outputs": [],
   "source": [
    "text_field.build_vocab(train_data, \n",
    "                 min_freq = 5,\n",
    "                 vectors = \"glove.6B.100d\",\n",
    "                 unk_init = torch.Tensor.normal_)\n",
    "labels_field.build_vocab(train_data)\n",
    "start_field.build_vocab(train_data)\n",
    "end_field.build_vocab(train_data)"
   ]
  },
  {
   "cell_type": "code",
   "execution_count": 34,
   "metadata": {},
   "outputs": [
    {
     "data": {
      "text/plain": [
       "<torchtext.vocab.Vocab at 0x7fd52d6f4cd0>"
      ]
     },
     "execution_count": 34,
     "metadata": {},
     "output_type": "execute_result"
    }
   ],
   "source": [
    "start_field.vocab"
   ]
  },
  {
   "cell_type": "code",
   "execution_count": 35,
   "metadata": {},
   "outputs": [],
   "source": [
    "BATCH_SIZE = 32\n",
    "\n",
    "device = torch.device('cuda:2')\n",
    "\n",
    "train_iterator, valid_iterator, test_iterator = data.BucketIterator.splits(\n",
    "    (train_data, val_data, test_data), \n",
    "    batch_size = BATCH_SIZE,\n",
    "    device = device)"
   ]
  },
  {
   "cell_type": "code",
   "execution_count": 87,
   "metadata": {},
   "outputs": [],
   "source": [
    "# def jaccard_loss(pred, target, smooth=1e-10):\n",
    "#     I = (torch.sigmoid(pred) * target).sum(axis=1, keepdim=True)\n",
    "#     P = pred.sum(axis=1, keepdim=True)\n",
    "#     T = target.sum(axis=1, keepdim=True)\n",
    "#     loss = 1 - ((I + smooth) / (P + T - I + smooth))\n",
    "#     return loss"
   ]
  },
  {
   "cell_type": "code",
   "execution_count": 223,
   "metadata": {},
   "outputs": [],
   "source": [
    "class SentimentExtractor(nn.Module):\n",
    "    def __init__(self,\n",
    "                input_dim,\n",
    "                outputs_dim,\n",
    "                embedding_dim,\n",
    "                hidden_dim,\n",
    "                pad_idx,\n",
    "                dropout_rate,\n",
    "                num_layers,\n",
    "                bidirectional\n",
    "                ):\n",
    "        super().__init__()\n",
    "        self.embedding = nn.Embedding(input_dim, embedding_dim, padding_idx=pad_idx)\n",
    "        \n",
    "        if num_layers == 1:\n",
    "            dropout_rate=0\n",
    "            \n",
    "        self.lstm = nn.LSTM(embedding_dim, hidden_dim, \n",
    "                            num_layers=num_layers, bidirectional=bidirectional, dropout=dropout_rate)\n",
    "        \n",
    "        # self.dropout = nn.Dropout(dropout_rate)\n",
    "        \n",
    "        if bidirectional:\n",
    "            self.fc = nn.Linear(hidden_dim*2, outputs_dim)\n",
    "        else:\n",
    "            self.fc = nn.Linear(hidden_dim, outputs_dim)\n",
    "    \n",
    "    def forward(self, text):\n",
    "        # embeddings = self.dropout(self.embedding(text))\n",
    "        embeddings = self.embedding(text)\n",
    "        output, (hidden, cell) = self.lstm(embeddings)\n",
    "        # return self.fc(self.dropout(output))\n",
    "        return self.fc(output), self.fc(output)"
   ]
  },
  {
   "cell_type": "code",
   "execution_count": null,
   "metadata": {},
   "outputs": [],
   "source": []
  },
  {
   "cell_type": "code",
   "execution_count": 224,
   "metadata": {},
   "outputs": [],
   "source": [
    "input_dim = len(text_field.vocab)\n",
    "outputs_dim = 1\n",
    "hidden_dim = 64\n",
    "num_layers = 1\n",
    "bidirectional = False\n",
    "dropout_rate = 0.25\n",
    "pad_idx = text_field.vocab.stoi[text_field.pad_token]\n",
    "embedding_dim = 100\n",
    "\n",
    "model = SentimentExtractor(input_dim=input_dim,\n",
    "                 outputs_dim=outputs_dim,\n",
    "                 hidden_dim=hidden_dim,\n",
    "                 num_layers=num_layers,\n",
    "                 bidirectional=bidirectional,\n",
    "                 dropout_rate=dropout_rate,\n",
    "                 embedding_dim=embedding_dim,\n",
    "                 pad_idx=pad_idx)\n",
    "\n",
    "# tag_pad_idx = UD_TAGS.vocab.stoi[UD_TAGS.pad_token]\n",
    "criterion = nn.CrossEntropyLoss(ignore_index=tag_pad_idx)"
   ]
  },
  {
   "cell_type": "code",
   "execution_count": 225,
   "metadata": {},
   "outputs": [],
   "source": [
    "def init_weights(m):\n",
    "    for name, param in m.named_parameters():\n",
    "        nn.init.normal_(param.data, mean = 0, std = 0.1)\n",
    "        \n",
    "model.apply(init_weights);"
   ]
  },
  {
   "cell_type": "code",
   "execution_count": 226,
   "metadata": {},
   "outputs": [],
   "source": [
    "def count_parameters(model):\n",
    "    return sum(p.numel() for p in model.parameters() if p.requires_grad)\n",
    "\n",
    "# print(f'The model has {count_parameters(model):,} trainable parameters')"
   ]
  },
  {
   "cell_type": "code",
   "execution_count": 227,
   "metadata": {},
   "outputs": [],
   "source": [
    "model.to(device)\n",
    "# criterion.to(device_cpu)\n",
    "for param in model.parameters():\n",
    "    param.requires_grad = True\n",
    "\n",
    "pretrained_embeddings = text_field.vocab.vectors\n",
    "model.embedding.weight.data.copy_(pretrained_embeddings);\n",
    "\n",
    "model.embedding.weight.data[1] = torch.zeros(embedding_dim)\n",
    "optimizer = optim.Adam(model.parameters())"
   ]
  },
  {
   "cell_type": "code",
   "execution_count": 228,
   "metadata": {},
   "outputs": [],
   "source": [
    "def custom_categorical_accuracy(y_pred, y_true, tag_pad_idx):\n",
    "    y_pred = y_pred.argmax(dim=1, keepdim=True)\n",
    "#     print(y_true)\n",
    "#     print(tag_pad_idx)\n",
    "#     print(y_true!=tag_pad_idx)\n",
    "    non_pad_element_idxs = (y_true!=tag_pad_idx).nonzero()\n",
    "    correct = y_pred[non_pad_element_idxs].squeeze(1).eq(y_true[non_pad_element_idxs])\n",
    "    return correct.sum() / torch.FloatTensor([y_true[non_pad_element_idxs].shape[0]])"
   ]
  },
  {
   "cell_type": "code",
   "execution_count": 229,
   "metadata": {},
   "outputs": [],
   "source": [
    "model.to(device);\n",
    "# my_loss.to(device)"
   ]
  },
  {
   "cell_type": "code",
   "execution_count": 242,
   "metadata": {},
   "outputs": [],
   "source": [
    "# torch.tensor?"
   ]
  },
  {
   "cell_type": "code",
   "execution_count": 289,
   "metadata": {},
   "outputs": [],
   "source": []
  },
  {
   "cell_type": "code",
   "execution_count": 1,
   "metadata": {},
   "outputs": [],
   "source": [
    "def my_loss(true, pred):\n",
    "    # this is the new criterion\n",
    "    \n",
    "    # expected true to be of shape (batch_size, no_of_toks) -- but only 0, 1\n",
    "    # expecting pred to be of shape (batch_size, no_of_toks) -- but float values\n",
    "    \n",
    "    true_start, true_end = true\n",
    "    pred_start, pred_end = pred\n",
    "    \n",
    "    pred_start_idx = torch.argmax(pred_start, dim=1, keepdim=False)\n",
    "    pred_end_idx = torch.argmax(pred_end, dim=1, keepdim=False)\n",
    "    # print(pred_start_idx.cpu().numpy())\n",
    "    # print(pred_end_idx.cpu().numpy())\n",
    "    # TODO: fix this later\n",
    "    true_start_idx = torch.tensor([temp[1] for temp in (true_start==1).nonzero()], requires_grad=True).to(device)\n",
    "    true_end_idx = torch.tensor([temp[1] for temp in (true_end==1).nonzero()], requires_grad=True).to(device)\n",
    "    # print(true_start_idx.cpu().numpy())\n",
    "    # print(true_end_idx.cpu().numpy())\n",
    "\n",
    "    I = torch.min(true_end_idx, pred_end_idx) - torch.max(true_start_idx, pred_start_idx)\n",
    "    # print(I.cpu().numpy())\n",
    "    P = pred_end_idx - pred_start_idx\n",
    "    T = true_end_idx - true_start_idx\n",
    "    \n",
    "    smooth = 1e-6\n",
    "    \n",
    "    loss = 1 - ((I + smooth) / (P + T - I + smooth))\n",
    "    \n",
    "    loss[(I<0).nonzero()] = 1\n",
    "    loss[(pred_end_idx<pred_start_idx).nonzero()] = 10\n",
    "    \n",
    "    return loss"
   ]
  },
  {
   "cell_type": "code",
   "execution_count": 244,
   "metadata": {},
   "outputs": [
    {
     "name": "stdout",
     "output_type": "stream",
     "text": [
      "Text shape:  torch.Size([28, 32])\n",
      "torch.Size([28, 32])\n",
      "Start shape:  torch.Size([32, 28])\n",
      "End shape:  torch.Size([32, 28])\n",
      "Preds_start shape:  torch.Size([32, 28])\n",
      "Preds_end shape:  torch.Size([32, 28])\n",
      "j shape:  torch.Size([32])\n"
     ]
    }
   ],
   "source": [
    "with torch.no_grad():\n",
    "    model.eval()\n",
    "    for batch in train_iterator:\n",
    "        text = batch.text\n",
    "    #     tags = batch.udtags\n",
    "        print('Text shape: ', text.shape)\n",
    "        start = batch.start\n",
    "        print(start.shape)\n",
    "        end = batch.end\n",
    "        start = torch.transpose(start, 0, 1).to(device)\n",
    "        print('Start shape: ', start.shape)\n",
    "        end = torch.transpose(end, 0, 1).to(device)\n",
    "        print('End shape: ', end.shape)\n",
    "        preds_start, preds_end = model(batch.text)\n",
    "    #     print(batch.end.shape)\n",
    "        # print(type(text[0][0]))\n",
    "        # print(text[0][0].cpu().data.numpy())\n",
    "        # print(text)\n",
    "        # for text_ in text.T:\n",
    "        #     pprint(text_)\n",
    "        #     print()\n",
    "    #     print(tags.shape)\n",
    "    #     predictions = model(text)\n",
    "    #     print(predictions.shape)\n",
    "    #     predictions = predictions.view(-1, predictions.shape[-1])\n",
    "    #     print(predictions.shape)\n",
    "    #     print(tags.shape)\n",
    "    #     tags = tags.view(-1)\n",
    "    #     print(tags.shape)\n",
    "        # print()\n",
    "    #     print(predictions.shape)\n",
    "        # print(tags)\n",
    "        \n",
    "        preds_start, preds_end = model(batch.text)\n",
    "        preds_start = torch.transpose(preds_start.view(preds_start.shape[0], -1), 0, 1)\n",
    "        print('Preds_start shape: ', preds_start.shape)\n",
    "        \n",
    "        preds_end = torch.transpose(preds_end.view(preds_end.shape[0], -1), 0, 1)\n",
    "        print('Preds_end shape: ', preds_end.shape)\n",
    "        \n",
    "        j = my_loss((start, end), (preds_start,preds_end))\n",
    "        print('j shape: ', j.shape)\n",
    "#         print(j)\n",
    "#         print(preds_start)\n",
    "#         preds_start = torch.transpose(preds_start,0,1)\n",
    "#         preds_end = torch.transpose()\n",
    "        \n",
    "        \n",
    "    #     print(batch.end.shape)\n",
    "        # print(type(text[0][0]))\n",
    "        # print(text[0][0].cpu().data.numpy())\n",
    "        # print(text)\n",
    "        # for text_ in text.T:\n",
    "        #     pprint(text_)\n",
    "        #     print()\n",
    "    #     print(tags.shape)\n",
    "    #     predictions = model(text)\n",
    "    #     print(predictions.shape)\n",
    "    #     predictions = predictions.view(-1, predictions.shape[-1])\n",
    "    #     print(predictions.shape)\n",
    "    #     print(tags.shape)\n",
    "    #     tags = tags.view(-1)\n",
    "    #     print(tags.shape)\n",
    "        # print()\n",
    "    #     print(predictions.shape)\n",
    "        # print(tags)\n",
    "        break"
   ]
  },
  {
   "cell_type": "code",
   "execution_count": null,
   "metadata": {},
   "outputs": [],
   "source": []
  },
  {
   "cell_type": "code",
   "execution_count": 38,
   "metadata": {},
   "outputs": [],
   "source": [
    "# # torch.seed()\n",
    "# z = torch.randn(2,1)\n",
    "# z2 = torch.randn(2,1)"
   ]
  },
  {
   "cell_type": "code",
   "execution_count": 187,
   "metadata": {},
   "outputs": [],
   "source": [
    "# criterion(z,z2)"
   ]
  },
  {
   "cell_type": "code",
   "execution_count": 188,
   "metadata": {},
   "outputs": [],
   "source": [
    "# criterion(torch.FloatTensor(1), torch.FloatTensor(2))"
   ]
  },
  {
   "cell_type": "code",
   "execution_count": null,
   "metadata": {},
   "outputs": [],
   "source": []
  },
  {
   "cell_type": "code",
   "execution_count": 189,
   "metadata": {},
   "outputs": [],
   "source": [
    "# for batch in train_iterator:\n",
    "#     text = batch.text\n",
    "#     tags = batch.udtags\n",
    "\n",
    "#     y_pred = model(text)\n",
    "#     print(y_pred)\n",
    "#     y_pred = y_pred.view(-1, y_pred.shape[-1])\n",
    "\n",
    "#     tags = tags.view(-1)\n",
    "\n",
    "#     loss = criterion(y_pred, tags)\n"
   ]
  },
  {
   "cell_type": "code",
   "execution_count": null,
   "metadata": {},
   "outputs": [],
   "source": []
  },
  {
   "cell_type": "code",
   "execution_count": null,
   "metadata": {},
   "outputs": [],
   "source": []
  },
  {
   "cell_type": "code",
   "execution_count": 263,
   "metadata": {},
   "outputs": [],
   "source": [
    "def train_one_epoch(model, iterator, loss_func, optimizer):\n",
    "    model.train()\n",
    "    \n",
    "    epoch_loss = 0\n",
    "    epoch_acc = 0\n",
    "    model.train()\n",
    "    optimizer.zero_grad()\n",
    "    with torch.enable_grad():\n",
    "        for batch in train_iterator:\n",
    "            text = batch.text\n",
    "    #         print('Text shape: ', text.shape)\n",
    "            start = batch.start\n",
    "    #         print(start.shape)\n",
    "            end = batch.end\n",
    "            start = torch.transpose(start, 0, 1).to(device)\n",
    "    #         print('Start shape: ', start.shape)\n",
    "            end = torch.transpose(end, 0, 1).to(device)\n",
    "    #         print('End shape: ', end.shape)\n",
    "            preds_start, preds_end = model(batch.text)\n",
    "\n",
    "    #         preds_start, preds_end = model(batch.text)\n",
    "            preds_start = torch.transpose(preds_start.view(preds_start.shape[0], -1), 0, 1)\n",
    "    #         print('Preds_start shape: ', preds_start.shape)\n",
    "\n",
    "            preds_end = torch.transpose(preds_end.view(preds_end.shape[0], -1), 0, 1)\n",
    "    #         print('Preds_end shape: ', preds_end.shape)\n",
    "#             preds_start.require_grad=True\n",
    "#             preds_end.require_grad = True\n",
    "            j_loss = loss_func((start, end), (preds_start,preds_end))\n",
    "    #         print('j shape: ', j.shape)\n",
    "            # acc = custom_categorical_accuracy(y_pred, tags, tag_pad_idx)\n",
    "            print(j_loss.shape)\n",
    "            \n",
    "            j_loss.backward()\n",
    "            optimizer.step()\n",
    "\n",
    "            epoch_loss += j_loss.item()\n",
    "        \n",
    "    return epoch_loss/len(iterator)"
   ]
  },
  {
   "cell_type": "code",
   "execution_count": 264,
   "metadata": {},
   "outputs": [],
   "source": [
    "def val_one_epoch(model, iterator, loss_func):\n",
    "    epoch_loss = 0\n",
    "    epoch_acc = 0\n",
    "    \n",
    "    model.eval()\n",
    "    with torch.no_grad():\n",
    "        \n",
    "        for batch in iterator:\n",
    "            text = batch.text\n",
    "            tags = batch.udtags\n",
    "\n",
    "            y_pred = model(text)\n",
    "            y_pred = y_pred.view(-1, y_pred.shape[-1])\n",
    "\n",
    "            tags = tags.view(-1)\n",
    "            \n",
    "\n",
    "            loss = loss_func(y_pred, tags)\n",
    "\n",
    "            epoch_loss += loss.item()\n",
    "\n",
    "    return epoch_loss/len(iterator)"
   ]
  },
  {
   "cell_type": "code",
   "execution_count": 265,
   "metadata": {},
   "outputs": [],
   "source": [
    "# device_cpu = torch.device('cpu')"
   ]
  },
  {
   "cell_type": "code",
   "execution_count": 266,
   "metadata": {},
   "outputs": [],
   "source": [
    "def epoch_time(start_time, end_time):\n",
    "    elapsed_time = end_time - start_time\n",
    "    elapsed_mins = int(elapsed_time / 60)\n",
    "    elapsed_secs = int(elapsed_time - (elapsed_mins * 60))\n",
    "    return elapsed_mins, elapsed_secs"
   ]
  },
  {
   "cell_type": "code",
   "execution_count": 267,
   "metadata": {},
   "outputs": [],
   "source": [
    "# for batch in train_iterator:\n",
    "#     pass"
   ]
  },
  {
   "cell_type": "code",
   "execution_count": null,
   "metadata": {},
   "outputs": [],
   "source": []
  },
  {
   "cell_type": "code",
   "execution_count": 268,
   "metadata": {},
   "outputs": [],
   "source": [
    "# vars(train_iterator.data()[0])"
   ]
  },
  {
   "cell_type": "code",
   "execution_count": 269,
   "metadata": {},
   "outputs": [],
   "source": [
    "# for e in train_iterator.data():\n",
    "# #     print(e.text)\n",
    "#     try:\n",
    "#         for udtag in e.udtags:\n",
    "#             z = (UD_TAGS.vocab.stoi[udtag])\n",
    "#     except Exception as e:\n",
    "#         print(e)\n",
    "#         print(vars(e))\n",
    "# #     break"
   ]
  },
  {
   "cell_type": "code",
   "execution_count": 270,
   "metadata": {},
   "outputs": [],
   "source": [
    "# model.to(torch.device('cpu'))"
   ]
  },
  {
   "cell_type": "code",
   "execution_count": 271,
   "metadata": {
    "scrolled": true
   },
   "outputs": [
    {
     "name": "stdout",
     "output_type": "stream",
     "text": [
      "torch.Size([32])\n"
     ]
    },
    {
     "ename": "RuntimeError",
     "evalue": "element 0 of tensors does not require grad and does not have a grad_fn",
     "output_type": "error",
     "traceback": [
      "\u001b[0;31m---------------------------------------\u001b[0m",
      "\u001b[0;31mRuntimeError\u001b[0mTraceback (most recent call last)",
      "\u001b[0;32m<ipython-input-271-f93ec8d47f92>\u001b[0m in \u001b[0;36m<module>\u001b[0;34m\u001b[0m\n\u001b[1;32m      7\u001b[0m     \u001b[0mstart_time\u001b[0m \u001b[0;34m=\u001b[0m \u001b[0mtime\u001b[0m\u001b[0;34m.\u001b[0m\u001b[0mtime\u001b[0m\u001b[0;34m(\u001b[0m\u001b[0;34m)\u001b[0m\u001b[0;34m\u001b[0m\u001b[0;34m\u001b[0m\u001b[0m\n\u001b[1;32m      8\u001b[0m \u001b[0;34m\u001b[0m\u001b[0m\n\u001b[0;32m----> 9\u001b[0;31m     \u001b[0mtrain_loss\u001b[0m\u001b[0;34m,\u001b[0m \u001b[0mtrain_acc\u001b[0m \u001b[0;34m=\u001b[0m \u001b[0mtrain_one_epoch\u001b[0m\u001b[0;34m(\u001b[0m\u001b[0mmodel\u001b[0m\u001b[0;34m,\u001b[0m \u001b[0mtrain_iterator\u001b[0m\u001b[0;34m,\u001b[0m \u001b[0mmy_loss\u001b[0m\u001b[0;34m,\u001b[0m \u001b[0moptimizer\u001b[0m\u001b[0;34m)\u001b[0m\u001b[0;34m\u001b[0m\u001b[0;34m\u001b[0m\u001b[0m\n\u001b[0m\u001b[1;32m     10\u001b[0m     \u001b[0mval_loss\u001b[0m\u001b[0;34m,\u001b[0m \u001b[0mval_acc\u001b[0m \u001b[0;34m=\u001b[0m \u001b[0mval_one_epoch\u001b[0m\u001b[0;34m(\u001b[0m\u001b[0mmodel\u001b[0m\u001b[0;34m,\u001b[0m \u001b[0mvalid_iterator\u001b[0m\u001b[0;34m,\u001b[0m \u001b[0mmy_loss\u001b[0m\u001b[0;34m)\u001b[0m\u001b[0;34m\u001b[0m\u001b[0;34m\u001b[0m\u001b[0m\n\u001b[1;32m     11\u001b[0m \u001b[0;34m\u001b[0m\u001b[0m\n",
      "\u001b[0;32m<ipython-input-263-1968ff692bf9>\u001b[0m in \u001b[0;36mtrain_one_epoch\u001b[0;34m(model, iterator, loss_func, optimizer)\u001b[0m\n\u001b[1;32m     32\u001b[0m             \u001b[0mprint\u001b[0m\u001b[0;34m(\u001b[0m\u001b[0mj_loss\u001b[0m\u001b[0;34m.\u001b[0m\u001b[0mshape\u001b[0m\u001b[0;34m)\u001b[0m\u001b[0;34m\u001b[0m\u001b[0;34m\u001b[0m\u001b[0m\n\u001b[1;32m     33\u001b[0m \u001b[0;34m\u001b[0m\u001b[0m\n\u001b[0;32m---> 34\u001b[0;31m             \u001b[0mj_loss\u001b[0m\u001b[0;34m.\u001b[0m\u001b[0mbackward\u001b[0m\u001b[0;34m(\u001b[0m\u001b[0;34m)\u001b[0m\u001b[0;34m\u001b[0m\u001b[0;34m\u001b[0m\u001b[0m\n\u001b[0m\u001b[1;32m     35\u001b[0m             \u001b[0moptimizer\u001b[0m\u001b[0;34m.\u001b[0m\u001b[0mstep\u001b[0m\u001b[0;34m(\u001b[0m\u001b[0;34m)\u001b[0m\u001b[0;34m\u001b[0m\u001b[0;34m\u001b[0m\u001b[0m\n\u001b[1;32m     36\u001b[0m \u001b[0;34m\u001b[0m\u001b[0m\n",
      "\u001b[0;32m~/miniconda3/envs/tf_3/lib/python3.7/site-packages/torch/tensor.py\u001b[0m in \u001b[0;36mbackward\u001b[0;34m(self, gradient, retain_graph, create_graph)\u001b[0m\n\u001b[1;32m    148\u001b[0m                 \u001b[0mproducts\u001b[0m\u001b[0;34m.\u001b[0m \u001b[0mDefaults\u001b[0m \u001b[0mto\u001b[0m\u001b[0;31m \u001b[0m\u001b[0;31m`\u001b[0m\u001b[0;31m`\u001b[0m\u001b[0;32mFalse\u001b[0m\u001b[0;31m`\u001b[0m\u001b[0;31m`\u001b[0m\u001b[0;34m.\u001b[0m\u001b[0;34m\u001b[0m\u001b[0;34m\u001b[0m\u001b[0m\n\u001b[1;32m    149\u001b[0m         \"\"\"\n\u001b[0;32m--> 150\u001b[0;31m         \u001b[0mtorch\u001b[0m\u001b[0;34m.\u001b[0m\u001b[0mautograd\u001b[0m\u001b[0;34m.\u001b[0m\u001b[0mbackward\u001b[0m\u001b[0;34m(\u001b[0m\u001b[0mself\u001b[0m\u001b[0;34m,\u001b[0m \u001b[0mgradient\u001b[0m\u001b[0;34m,\u001b[0m \u001b[0mretain_graph\u001b[0m\u001b[0;34m,\u001b[0m \u001b[0mcreate_graph\u001b[0m\u001b[0;34m)\u001b[0m\u001b[0;34m\u001b[0m\u001b[0;34m\u001b[0m\u001b[0m\n\u001b[0m\u001b[1;32m    151\u001b[0m \u001b[0;34m\u001b[0m\u001b[0m\n\u001b[1;32m    152\u001b[0m     \u001b[0;32mdef\u001b[0m \u001b[0mregister_hook\u001b[0m\u001b[0;34m(\u001b[0m\u001b[0mself\u001b[0m\u001b[0;34m,\u001b[0m \u001b[0mhook\u001b[0m\u001b[0;34m)\u001b[0m\u001b[0;34m:\u001b[0m\u001b[0;34m\u001b[0m\u001b[0;34m\u001b[0m\u001b[0m\n",
      "\u001b[0;32m~/miniconda3/envs/tf_3/lib/python3.7/site-packages/torch/autograd/__init__.py\u001b[0m in \u001b[0;36mbackward\u001b[0;34m(tensors, grad_tensors, retain_graph, create_graph, grad_variables)\u001b[0m\n\u001b[1;32m     97\u001b[0m     Variable._execution_engine.run_backward(\n\u001b[1;32m     98\u001b[0m         \u001b[0mtensors\u001b[0m\u001b[0;34m,\u001b[0m \u001b[0mgrad_tensors\u001b[0m\u001b[0;34m,\u001b[0m \u001b[0mretain_graph\u001b[0m\u001b[0;34m,\u001b[0m \u001b[0mcreate_graph\u001b[0m\u001b[0;34m,\u001b[0m\u001b[0;34m\u001b[0m\u001b[0;34m\u001b[0m\u001b[0m\n\u001b[0;32m---> 99\u001b[0;31m         allow_unreachable=True)  # allow_unreachable flag\n\u001b[0m\u001b[1;32m    100\u001b[0m \u001b[0;34m\u001b[0m\u001b[0m\n\u001b[1;32m    101\u001b[0m \u001b[0;34m\u001b[0m\u001b[0m\n",
      "\u001b[0;31mRuntimeError\u001b[0m: element 0 of tensors does not require grad and does not have a grad_fn"
     ]
    }
   ],
   "source": [
    "\n",
    "n_epochs = 10\n",
    "\n",
    "best_val_loss = float('inf')\n",
    "\n",
    "for epoch in range(n_epochs):\n",
    "    \n",
    "    start_time = time.time()\n",
    "    \n",
    "    train_loss, train_acc = train_one_epoch(model, train_iterator, my_loss, optimizer)\n",
    "    val_loss, val_acc = val_one_epoch(model, valid_iterator, my_loss)\n",
    "    \n",
    "    end_time = time.time()\n",
    "    \n",
    "    epoch_time_min, epoch_time_secs = epoch_time(start_time, end_time)\n",
    "    \n",
    "    if val_loss < best_val_loss:\n",
    "        best_valid_loss = val_loss\n",
    "        torch.save(model.state_dict(), 'tut1-model.pt')\n",
    "    \n",
    "    print(f'Epoch: {epoch+1:02} | Epoch Time: {epoch_time_min}m {epoch_time_secs}s')\n",
    "    print(f'\\tTrain Loss: {train_loss:.3f} | Train Acc: {train_acc*100:.2f}%')\n",
    "    print(f'\\t Val. Loss: {val_loss:.3f} |  Val. Acc: {val_acc*100:.2f}%')\n",
    "    "
   ]
  },
  {
   "cell_type": "code",
   "execution_count": null,
   "metadata": {},
   "outputs": [],
   "source": []
  },
  {
   "cell_type": "code",
   "execution_count": null,
   "metadata": {},
   "outputs": [],
   "source": []
  },
  {
   "cell_type": "code",
   "execution_count": null,
   "metadata": {},
   "outputs": [],
   "source": []
  },
  {
   "cell_type": "code",
   "execution_count": 47,
   "metadata": {},
   "outputs": [],
   "source": [
    "# x = torch.randn(100,1000)\n",
    "# y = torch.randn(1000,1000)"
   ]
  },
  {
   "cell_type": "code",
   "execution_count": 55,
   "metadata": {},
   "outputs": [],
   "source": [
    "# device = torch.device('cpu')"
   ]
  },
  {
   "cell_type": "code",
   "execution_count": 50,
   "metadata": {},
   "outputs": [],
   "source": [
    "# x.to(device); y.to(device)"
   ]
  },
  {
   "cell_type": "code",
   "execution_count": 51,
   "metadata": {},
   "outputs": [],
   "source": [
    "# z = torch.matmul(x,y)"
   ]
  },
  {
   "cell_type": "code",
   "execution_count": 155,
   "metadata": {},
   "outputs": [],
   "source": [
    "# x = torch.randn((32,18))"
   ]
  },
  {
   "cell_type": "code",
   "execution_count": 154,
   "metadata": {},
   "outputs": [],
   "source": [
    "# x.nonzero().shape"
   ]
  },
  {
   "cell_type": "code",
   "execution_count": null,
   "metadata": {},
   "outputs": [],
   "source": []
  },
  {
   "cell_type": "code",
   "execution_count": 52,
   "metadata": {},
   "outputs": [],
   "source": [
    "# loss = nn.CrossEntropyLoss()\n",
    "# input_ = torch.randn(3, 5, requires_grad=True)\n",
    "# target = torch.empty(3, dtype=torch.long).random_(5)\n",
    "# print(input_); print(target)\n",
    "# output = loss(input_, target)"
   ]
  },
  {
   "cell_type": "code",
   "execution_count": null,
   "metadata": {},
   "outputs": [],
   "source": []
  },
  {
   "cell_type": "code",
   "execution_count": null,
   "metadata": {},
   "outputs": [],
   "source": [
    "def my_loss(true, pred):\n",
    "    # this is the new criterion\n",
    "    \n",
    "    # expected true to be of shape (batch_size, None) -- but only 0, 1\n",
    "    # expecting pred to be of shape (batch_size, None) -- but float values\n",
    "    \n",
    "    true_start, true_end = true\n",
    "    pred_start, pred_end = pred\n",
    "    \n",
    "    pred_start_idx = (pred_start==1).nonzero()\n",
    "    pred_end_idx = (pred_end==1).nonzero()\n",
    "    \n",
    "    if pred_start_idx > pred_end_idx: return 100\n",
    "    \n",
    "    true_start_idx = (true_start==1).nonzero()\n",
    "    true_end_idx = (true_end==1).nonzero()\n",
    "    \n",
    "    I = torch.min(true_end_idx, pred_end_idx) - torch.max(true_start_idx, pred_start_idx)\n",
    "    if I < 0: return 1\n",
    "    P = pred_end_idx - pred_start_idx\n",
    "    T = true_end_idx - true_start_idx\n",
    "    \n",
    "    smooth = 1e-6\n",
    "    \n",
    "    loss = 1 - ((I + smooth) / (P + T - I + smooth))\n",
    "    return loss"
   ]
  },
  {
   "cell_type": "code",
   "execution_count": null,
   "metadata": {},
   "outputs": [],
   "source": []
  },
  {
   "cell_type": "code",
   "execution_count": null,
   "metadata": {},
   "outputs": [],
   "source": []
  },
  {
   "cell_type": "code",
   "execution_count": 297,
   "metadata": {},
   "outputs": [],
   "source": [
    "from torch.autograd import Variable\n",
    "import torch.nn.functional as F"
   ]
  },
  {
   "cell_type": "code",
   "execution_count": 298,
   "metadata": {},
   "outputs": [],
   "source": [
    "def lovasz_hinge_flat(logits, labels):\n",
    "    \"\"\"\n",
    "    Binary Lovasz hinge loss\n",
    "      logits: [P] Variable, logits at each prediction (between -\\infty and +\\infty)\n",
    "      labels: [P] Tensor, binary ground truth labels (0 or 1)\n",
    "      ignore: label to ignore\n",
    "    \"\"\"\n",
    "    if len(labels) == 0:\n",
    "        # only void pixels, the gradients should be 0\n",
    "        return logits.sum() * 0.\n",
    "    signs = 2. * labels.float() - 1.\n",
    "    errors = (1. - logits * Variable(signs))\n",
    "    errors_sorted, perm = torch.sort(errors, dim=0, descending=True)\n",
    "    perm = perm.data\n",
    "    gt_sorted = labels[perm]\n",
    "    grad = lovasz_grad(gt_sorted)\n",
    "    loss = torch.dot(F.relu(errors_sorted), Variable(grad))\n",
    "    return loss"
   ]
  },
  {
   "cell_type": "code",
   "execution_count": 299,
   "metadata": {},
   "outputs": [],
   "source": [
    "x1 = torch.FloatTensor(2,3)\n",
    "a = [[1,0,1],[0,1,1]]\n",
    "a = np.array([np.array(aa,dtype=np.float32) for aa in a])\n",
    "x2 = torch.tensor(a)"
   ]
  },
  {
   "cell_type": "code",
   "execution_count": 302,
   "metadata": {},
   "outputs": [],
   "source": [
    "x1 = x1.view(-1)\n",
    "x2 = x2.view(-1)"
   ]
  },
  {
   "cell_type": "code",
   "execution_count": 303,
   "metadata": {},
   "outputs": [],
   "source": [
    "def lovasz_grad(gt_sorted):\n",
    "    \"\"\"\n",
    "    Computes gradient of the Lovasz extension w.r.t sorted errors\n",
    "    See Alg. 1 in paper\n",
    "    \"\"\"\n",
    "    p = len(gt_sorted)\n",
    "    gts = gt_sorted.sum()\n",
    "    intersection = gts - gt_sorted.float().cumsum(0)\n",
    "    union = gts + (1 - gt_sorted).float().cumsum(0)\n",
    "    jaccard = 1. - intersection / union\n",
    "    if p > 1: # cover 1-pixel case\n",
    "        jaccard[1:p] = jaccard[1:p] - jaccard[0:-1]\n",
    "    return jaccard\n"
   ]
  },
  {
   "cell_type": "code",
   "execution_count": null,
   "metadata": {},
   "outputs": [],
   "source": []
  },
  {
   "cell_type": "code",
   "execution_count": 304,
   "metadata": {},
   "outputs": [
    {
     "data": {
      "text/plain": [
       "tensor(23.5030)"
      ]
     },
     "execution_count": 304,
     "metadata": {},
     "output_type": "execute_result"
    }
   ],
   "source": [
    "lovasz_hinge_flat(x1, x2)"
   ]
  },
  {
   "cell_type": "code",
   "execution_count": null,
   "metadata": {},
   "outputs": [],
   "source": []
  }
 ],
 "metadata": {
  "kernelspec": {
   "display_name": "Python [conda env:tf_3]",
   "language": "python",
   "name": "conda-env-tf_3-py"
  },
  "language_info": {
   "codemirror_mode": {
    "name": "ipython",
    "version": 3
   },
   "file_extension": ".py",
   "mimetype": "text/x-python",
   "name": "python",
   "nbconvert_exporter": "python",
   "pygments_lexer": "ipython3",
   "version": "3.7.7"
  }
 },
 "nbformat": 4,
 "nbformat_minor": 2
}
